{
 "metadata": {
  "language_info": {
   "codemirror_mode": {
    "name": "ipython",
    "version": 3
   },
   "file_extension": ".py",
   "mimetype": "text/x-python",
   "name": "python",
   "nbconvert_exporter": "python",
   "pygments_lexer": "ipython3",
   "version": "3.7.6-final"
  },
  "orig_nbformat": 2,
  "kernelspec": {
   "name": "python3",
   "display_name": "Python 3",
   "language": "python"
  }
 },
 "nbformat": 4,
 "nbformat_minor": 2,
 "cells": [
  {
   "source": [
    "## Ensiksi syötetään alkutiedot \n",
    "\n",
    "Alkutietojen muuttujat:\n",
    "- bp = bruttopalkka (€/vuosi)\n",
    "- ika = Veronmaksajan ikä\n",
    "- k_k = kuulun kirkkoon (True/False)\n",
    "- t_m = Työttömyyskassan jäsenmaksu (€/vuosi)\n",
    "- mk = Matka kulut per vuosi\n",
    "- mko = Matkakulujen omavastuu per vuosi\n",
    "- k_kunta = Kotikunta verotusvuonna\n",
    "\n",
    "Seuraan tässä laskennassa veronmaksajien esimerkkiä --> https://www.veronmaksajat.fi/Palkka-ja-elake/Jarin-palkka/"
   ],
   "cell_type": "markdown",
   "metadata": {}
  },
  {
   "cell_type": "code",
   "execution_count": 3,
   "metadata": {},
   "outputs": [],
   "source": [
    "bp = 40000\n",
    "k_k = True\n",
    "t_m = 0\n",
    "mk = 0\n",
    "mko = 750"
   ]
  },
  {
   "source": [
    "## Puhdas ansiotulo\n",
    "\n",
    "Ensiksi lasketaan verotuksessa puhdas ansiotulo (pat). Tämä saadaan vähentämällä luonnolliset vähennykset bruttopalkasta. Ansiotulosta vähennetään aina tulonhankkimisvähennys (thv)"
   ],
   "cell_type": "markdown",
   "metadata": {}
  },
  {
   "cell_type": "code",
   "execution_count": 4,
   "metadata": {},
   "outputs": [
    {
     "output_type": "stream",
     "name": "stdout",
     "text": [
      "Puhdas ansiotulo on: 39250€\n"
     ]
    }
   ],
   "source": [
    "thv = 750\n",
    "\n",
    "# Lasketaan ylittääkö matkakustannukset omavastuun.\n",
    "if mk < mko:\n",
    "    mtv = 0\n",
    "else:\n",
    "    mtv = mk - mko\n",
    "\n",
    "pat = bp - t_m - mk - thv\n",
    "\n",
    "print('Puhdas ansiotulo on: {}€'.format(pat))"
   ]
  },
  {
   "source": [
    "## Sosiaalivakuutusmaksut ja sairausvakuutusmaksu\n",
    "\n",
    "Tämän jälkeen vähennetään työeläkemaksu"
   ],
   "cell_type": "markdown",
   "metadata": {}
  },
  {
   "cell_type": "code",
   "execution_count": 5,
   "metadata": {},
   "outputs": [
    {
     "output_type": "error",
     "ename": "NameError",
     "evalue": "name 'ika' is not defined",
     "traceback": [
      "\u001b[1;31m---------------------------------------------------------------------------\u001b[0m",
      "\u001b[1;31mNameError\u001b[0m                                 Traceback (most recent call last)",
      "\u001b[1;32m<ipython-input-5-21387eea8f74>\u001b[0m in \u001b[0;36m<module>\u001b[1;34m\u001b[0m\n\u001b[1;32m----> 1\u001b[1;33m \u001b[1;32mif\u001b[0m \u001b[0mika\u001b[0m \u001b[1;33m>=\u001b[0m \u001b[1;36m17\u001b[0m \u001b[1;32mand\u001b[0m \u001b[0mika\u001b[0m \u001b[1;33m<=\u001b[0m \u001b[1;36m52\u001b[0m\u001b[1;33m:\u001b[0m\u001b[1;33m\u001b[0m\u001b[1;33m\u001b[0m\u001b[0m\n\u001b[0m\u001b[0;32m      2\u001b[0m     \u001b[0mtelm_p\u001b[0m \u001b[1;33m=\u001b[0m \u001b[1;36m0.0715\u001b[0m\u001b[1;33m\u001b[0m\u001b[1;33m\u001b[0m\u001b[0m\n\u001b[0;32m      3\u001b[0m \u001b[1;32melif\u001b[0m \u001b[0mika\u001b[0m \u001b[1;33m>=\u001b[0m \u001b[1;36m53\u001b[0m \u001b[1;32mand\u001b[0m \u001b[0mika\u001b[0m \u001b[1;33m<=\u001b[0m \u001b[1;36m62\u001b[0m\u001b[1;33m:\u001b[0m\u001b[1;33m\u001b[0m\u001b[1;33m\u001b[0m\u001b[0m\n\u001b[0;32m      4\u001b[0m     \u001b[0mtelm_p\u001b[0m \u001b[1;33m=\u001b[0m \u001b[1;36m0.0865\u001b[0m\u001b[1;33m\u001b[0m\u001b[1;33m\u001b[0m\u001b[0m\n\u001b[0;32m      5\u001b[0m \u001b[1;32melif\u001b[0m \u001b[0mika\u001b[0m \u001b[1;33m>=\u001b[0m \u001b[1;36m63\u001b[0m \u001b[1;32mand\u001b[0m \u001b[1;36m67\u001b[0m \u001b[1;33m<=\u001b[0m \u001b[1;36m62\u001b[0m\u001b[1;33m:\u001b[0m\u001b[1;33m\u001b[0m\u001b[1;33m\u001b[0m\u001b[0m\n",
      "\u001b[1;31mNameError\u001b[0m: name 'ika' is not defined"
     ]
    }
   ],
   "source": [
    "if ika >= 17 and ika <= 52:\n",
    "    telm_p = 0.0715\n",
    "elif ika >= 53 and ika <= 62:\n",
    "    telm_p = 0.0865\n",
    "elif ika >= 63 and 67 <= 62:\n",
    "    telm_p = 0.0715\n",
    "else:\n",
    "    telm_p = 0\n",
    "\n",
    "tyel_m = pat*telm_p\n",
    "print('TyEL maksu: {:.1f}€'.format(tyel_m))"
   ]
  },
  {
   "source": [
    "Seuraavaksi lasketaan työttömyysvakuutusmaksu, jos työntekijä on 17 - 64 -vuotias"
   ],
   "cell_type": "markdown",
   "metadata": {}
  },
  {
   "cell_type": "code",
   "execution_count": 35,
   "metadata": {},
   "outputs": [
    {
     "output_type": "stream",
     "name": "stdout",
     "text": [
      "Työttömyysvakuutusmaksu maksu: 549.5€\n"
     ]
    }
   ],
   "source": [
    "if ika >= 17 and ika <= 64:\n",
    "    tvm_p = 0.014\n",
    "else:\n",
    "    tvm_p = 0.0\n",
    "\n",
    "tvm = pat*tvm_p\n",
    "print('Työttömyysvakuutusmaksu maksu: {:.1f}€'.format(tvm))"
   ]
  },
  {
   "source": [
    "Seuraavaksi lasketaan sairausvakuutuksen päivärahamaksu. Vuositulot ovat alle 14766€. Maksua ei peritä"
   ],
   "cell_type": "markdown",
   "metadata": {}
  },
  {
   "cell_type": "code",
   "execution_count": 36,
   "metadata": {},
   "outputs": [
    {
     "output_type": "stream",
     "name": "stdout",
     "text": [
      "Työttömyysvakuutusmaksu maksu: 533.8€\n"
     ]
    }
   ],
   "source": [
    "if ika >= 16 and ika <= 67 and pat >= 14766:\n",
    "    prm_p = 0.0136\n",
    "else:\n",
    "    prm_p = 0\n",
    "\n",
    "\n",
    "svm = pat*prm_p\n",
    "print('Työttömyysvakuutusmaksu maksu: {:.1f}€'.format(svm))"
   ]
  },
  {
   "source": [
    "Sitten lasketaan sairaanhoitomaksu palkkatulosta (0,68%)"
   ],
   "cell_type": "markdown",
   "metadata": {}
  },
  {
   "cell_type": "code",
   "execution_count": 37,
   "metadata": {},
   "outputs": [
    {
     "output_type": "stream",
     "name": "stdout",
     "text": [
      "Työttömyysvakuutusmaksu maksu: 266.9€\n"
     ]
    }
   ],
   "source": [
    "shm = pat*0.0068\n",
    "print('Työttömyysvakuutusmaksu maksu: {:.1f}€'.format(shm))"
   ]
  },
  {
   "source": [
    "## Verotettava tulo sosiaalivakuutusmaksujen ja sairausvakuutusmaksun jälkeen"
   ],
   "cell_type": "markdown",
   "metadata": {}
  },
  {
   "cell_type": "code",
   "execution_count": 38,
   "metadata": {},
   "outputs": [
    {
     "output_type": "stream",
     "name": "stdout",
     "text": [
      "Verotettavat tulo: 35093.4€\n"
     ]
    }
   ],
   "source": [
    "v_t = pat - shm - svm - tvm - tyel_m\n",
    "print('Verotettavat tulo: {:.1f}€'.format(v_t))"
   ]
  },
  {
   "source": [
    "## Kunnallisvero\n",
    "\n",
    "Sitten lasketaan kunnallisverot. Ensin aloitetaan kunnallisverotuksen asiotulovähennykestä (atv). Kunnallisveron ansiotulovähennys lasketaan ureasta eri tuloista:\n",
    "- Veron alaisesta palkkatulosta\n",
    "- Muusta toiselle suoritetusta työstä, tehtävästä tai palveluksesta saadut ansiotulot\n",
    "- Ansiotulosta pidätettävistä käyttökorvauksista\n",
    "- Ansiotulona verotettavasta  osingosta\n",
    "- Jaettavasta yritystulosta, joka on asiotulon-osuutta\n",
    "- Uhtymän osakkaan elinkeinotoiminnan tai maatalouden ansiotulo-osuuden osuudesta\n",
    "\n",
    "Tässä esimerkissä kuitenkin keskitytään vain veron alaiseen palkkatuloon"
   ],
   "cell_type": "markdown",
   "metadata": {}
  },
  {
   "cell_type": "code",
   "execution_count": 54,
   "metadata": {},
   "outputs": [
    {
     "output_type": "stream",
     "name": "stdout",
     "text": [
      "Asiotulovähennys kunnallisverotuksesta: 2433.75€\n"
     ]
    }
   ],
   "source": [
    "bp = 40000\n",
    "\n",
    "if bp <= 2500:\n",
    "    atv = 0\n",
    "elif bp > 2500 and bp  <= 7230:\n",
    "    atv = (bt - 2500) * 0.51\n",
    "elif bp  > 7230: \n",
    "    atv = (7230 - 2500) * 0.51 + (bp - 7230) * 0.28\n",
    "\n",
    "if atv > 3570: # Asiotulovähennyksen maksimimäärä on 3570\n",
    "    atv = 3570\n",
    "\n",
    "# Jos kuitenkin verovelvollisen puhtaat ansiotulot ylittävät 14000€ vähennyksen määrä pienenee puhtaan ansiotulon ylittävältä osalta.\n",
    "\n",
    "if pat > 14000:\n",
    "    atv = atv - (pat - 14000) * 0.045\n",
    "\n",
    "print('Asiotulovähennys kunnallisverotuksesta: {:.2f}€'.format(atv))\n"
   ]
  },
  {
   "source": [
    "## Kunnallisverotuksen perusvähennys\n",
    "\n",
    "Perusvähennys kunnallisverotuksessa on maksimissaan 3305€. Tähän vaikuttaa myös muut vähennykset tulojen lisäksi. Puhtaasta ansiotulosta vähennetään sosiaalivakuutusmaksut, kunnallisverotuksen ansiotulovähennys sekä muut mahdolliset kunnallisverotuksen vähennykset. "
   ],
   "cell_type": "markdown",
   "metadata": {}
  },
  {
   "cell_type": "code",
   "execution_count": 73,
   "metadata": {},
   "outputs": [
    {
     "output_type": "stream",
     "name": "stdout",
     "text": [
      "Kunnallisverotuksen perusvähennys: 0.00€\n"
     ]
    }
   ],
   "source": [
    "\n",
    "kvp = 3305 # Perusvähennyksen maksimiarvo\n",
    "\n",
    "kvp_va = v_t - atv\n",
    "if kvp_va > kvp:\n",
    "    kvp = kvp - kvp_va*0.18\n",
    "\n",
    "if kvp < 0:\n",
    "    kvp = 0\n",
    "\n",
    "print('Kunnallisverotuksen perusvähennys: {:.2f}€'.format(kvp_r))\n",
    "\n"
   ]
  },
  {
   "source": [
    "## Kunnallisverotuksessa verotettava tulo"
   ],
   "cell_type": "markdown",
   "metadata": {}
  },
  {
   "cell_type": "code",
   "execution_count": 77,
   "metadata": {},
   "outputs": [
    {
     "output_type": "stream",
     "name": "stdout",
     "text": [
      "32659.674999999996\n"
     ]
    }
   ],
   "source": [
    "print(v_t - atv - kvp)"
   ]
  },
  {
   "cell_type": "code",
   "execution_count": 185,
   "metadata": {},
   "outputs": [],
   "source": [
    "import requests\n",
    "from io import BytesIO\n",
    "from pdfminer.high_level import extract_text\n",
    "import numpy as np\n",
    "import pandas as pd\n",
    "\n",
    "url = 'https://www.vero.fi/contentassets/be5e703ff5e34099a2ea2f74a33eaa68/kuntien-ja-seurakuntien-tuloveroprosentit-vuonna-2021.pdf'\n",
    "\n",
    "rq = requests.get(url)\n",
    "text = extract_text(BytesIO(rq.content))\n",
    "\n",
    "data = text.split('Kunta ')[1].split('Suomen saksalaisen')[0]\n",
    "\n",
    "temp = data.split('\\n\\n')\n",
    "kunnat = ''.join(temp[1::4]).replace('\\x0c','\\n').replace(' ','').split('\\n')\n",
    "kunnallis_veroprosentti  = ''.join(temp[2::4]).replace('\\n','').replace(',','.').split(' ')\n",
    "ev_lut_veroprosentti = ''.join(temp[3::4]).replace('\\n','').replace(',','.').split(' ')\n",
    "ort_veroprosentti = ''.join(temp[4::4]).replace('\\n','').replace(',','.').split(' ')\n",
    "\n",
    "df_kunnat = pd.DataFrame(data = kunnat, columns = ['Kunta']).replace('', np.nan).dropna()\n",
    "df_kunnallis_veroprosentti = pd.DataFrame(data = kunnallis_veroprosentti, columns = ['Kunnan tuloveroprosentti']).replace('', np.nan).dropna()\n",
    "df_ev_lut_veroprosentti = pd.DataFrame(data = ev_lut_veroprosentti, columns = ['Ev.lut. seurakunnan tuloveroprosentti']).replace('', np.nan).dropna()\n",
    "df_ort_veroprosentti = pd.DataFrame(data = ev_lut_veroprosentti, columns = ['Ortodoks. seurakunnan tuloveroprosentti']).replace('', np.nan).dropna()\n",
    "\n",
    "result = pd.concat([df_kunnat,df_kunnallis_veroprosentti, df_ev_lut_veroprosentti, df_ort_veroprosentti], axis = 1)"
   ]
  },
  {
   "cell_type": "code",
   "execution_count": 187,
   "metadata": {},
   "outputs": [
    {
     "output_type": "execute_result",
     "data": {
      "text/plain": [
       "         Kunta Kunnan\\ntuloveroprosentti  \\\n",
       "0         Akaa                     22.25   \n",
       "1     Alajärvi                     21.75   \n",
       "2    Alavieska                     22.00   \n",
       "3       Alavus                     21.25   \n",
       "4     Asikkala                     20.75   \n",
       "..         ...                       ...   \n",
       "304  Ylivieska                     23.00   \n",
       "305   Ylöjärvi                     20.50   \n",
       "306      Ypäjä                     22.00   \n",
       "307     Ähtäri                     22.50   \n",
       "308  Äänekoski                     21.50   \n",
       "\n",
       "    Ev.lut. seurakunnan tuloveroprosentti  \\\n",
       "0                                    1.70   \n",
       "1                                    1.75   \n",
       "2                                    1.80   \n",
       "3                                    1.75   \n",
       "4                                    1.75   \n",
       "..                                    ...   \n",
       "304                                  1.75   \n",
       "305                                  1.70   \n",
       "306                                  1.90   \n",
       "307                                  1.80   \n",
       "308                                  1.65   \n",
       "\n",
       "    Ortodoks. seurakunnan tuloveroprosentti  \n",
       "0                                      1.70  \n",
       "1                                      1.75  \n",
       "2                                      1.80  \n",
       "3                                      1.75  \n",
       "4                                      1.75  \n",
       "..                                      ...  \n",
       "304                                    1.75  \n",
       "305                                    1.70  \n",
       "306                                    1.90  \n",
       "307                                    1.80  \n",
       "308                                    1.65  \n",
       "\n",
       "[309 rows x 4 columns]"
      ],
      "text/html": "<div>\n<style scoped>\n    .dataframe tbody tr th:only-of-type {\n        vertical-align: middle;\n    }\n\n    .dataframe tbody tr th {\n        vertical-align: top;\n    }\n\n    .dataframe thead th {\n        text-align: right;\n    }\n</style>\n<table border=\"1\" class=\"dataframe\">\n  <thead>\n    <tr style=\"text-align: right;\">\n      <th></th>\n      <th>Kunta</th>\n      <th>Kunnan\\ntuloveroprosentti</th>\n      <th>Ev.lut. seurakunnan tuloveroprosentti</th>\n      <th>Ortodoks. seurakunnan tuloveroprosentti</th>\n    </tr>\n  </thead>\n  <tbody>\n    <tr>\n      <th>0</th>\n      <td>Akaa</td>\n      <td>22.25</td>\n      <td>1.70</td>\n      <td>1.70</td>\n    </tr>\n    <tr>\n      <th>1</th>\n      <td>Alajärvi</td>\n      <td>21.75</td>\n      <td>1.75</td>\n      <td>1.75</td>\n    </tr>\n    <tr>\n      <th>2</th>\n      <td>Alavieska</td>\n      <td>22.00</td>\n      <td>1.80</td>\n      <td>1.80</td>\n    </tr>\n    <tr>\n      <th>3</th>\n      <td>Alavus</td>\n      <td>21.25</td>\n      <td>1.75</td>\n      <td>1.75</td>\n    </tr>\n    <tr>\n      <th>4</th>\n      <td>Asikkala</td>\n      <td>20.75</td>\n      <td>1.75</td>\n      <td>1.75</td>\n    </tr>\n    <tr>\n      <th>...</th>\n      <td>...</td>\n      <td>...</td>\n      <td>...</td>\n      <td>...</td>\n    </tr>\n    <tr>\n      <th>304</th>\n      <td>Ylivieska</td>\n      <td>23.00</td>\n      <td>1.75</td>\n      <td>1.75</td>\n    </tr>\n    <tr>\n      <th>305</th>\n      <td>Ylöjärvi</td>\n      <td>20.50</td>\n      <td>1.70</td>\n      <td>1.70</td>\n    </tr>\n    <tr>\n      <th>306</th>\n      <td>Ypäjä</td>\n      <td>22.00</td>\n      <td>1.90</td>\n      <td>1.90</td>\n    </tr>\n    <tr>\n      <th>307</th>\n      <td>Ähtäri</td>\n      <td>22.50</td>\n      <td>1.80</td>\n      <td>1.80</td>\n    </tr>\n    <tr>\n      <th>308</th>\n      <td>Äänekoski</td>\n      <td>21.50</td>\n      <td>1.65</td>\n      <td>1.65</td>\n    </tr>\n  </tbody>\n</table>\n<p>309 rows × 4 columns</p>\n</div>"
     },
     "metadata": {},
     "execution_count": 187
    }
   ],
   "source": [
    "result"
   ]
  },
  {
   "cell_type": "code",
   "execution_count": null,
   "metadata": {},
   "outputs": [],
   "source": []
  }
 ]
}