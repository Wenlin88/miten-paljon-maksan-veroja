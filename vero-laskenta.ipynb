{
 "metadata": {
  "language_info": {
   "codemirror_mode": {
    "name": "ipython",
    "version": 3
   },
   "file_extension": ".py",
   "mimetype": "text/x-python",
   "name": "python",
   "nbconvert_exporter": "python",
   "pygments_lexer": "ipython3",
   "version": "3.7.6-final"
  },
  "orig_nbformat": 2,
  "kernelspec": {
   "name": "python3",
   "display_name": "Python 3",
   "language": "python"
  }
 },
 "nbformat": 4,
 "nbformat_minor": 2,
 "cells": [
  {
   "source": [
    "## Ensiksi syötetään alkutiedot \n",
    "\n",
    "Alkutietojen muuttujat:\n",
    "- bp = bruttopalkka (€/vuosi)\n",
    "- ika = Veronmaksajan ikä\n",
    "- k_k = kuulun kirkkoon (True/False)\n",
    "- t_m = Työttömyyskassan jäsenmaksu (€/vuosi)\n",
    "- mk = Matka kulut per vuosi\n",
    "- mko = Matkakulujen omavastuu per vuosi\n",
    "- k_kunta = Kotikunta verotusvuonna"
   ],
   "cell_type": "markdown",
   "metadata": {}
  },
  {
   "cell_type": "code",
   "execution_count": 32,
   "metadata": {},
   "outputs": [],
   "source": [
    "bp = 40000\n",
    "k_k = True\n",
    "t_m = 0\n",
    "mk = 0\n",
    "mko = 750"
   ]
  },
  {
   "source": [
    "## Puhdas ansiotulo\n",
    "\n",
    "Ensiksi lasketaan verotuksessa puhdas ansiotulo (pat). Tämä saadaan vähentämällä luonnolliset vähennykset bruttopalkasta. Ansiotulosta vähennetään aina tulonhankkimisvähennys (thv)"
   ],
   "cell_type": "markdown",
   "metadata": {}
  },
  {
   "cell_type": "code",
   "execution_count": 33,
   "metadata": {},
   "outputs": [
    {
     "output_type": "stream",
     "name": "stdout",
     "text": [
      "Puhdas ansiotulo on: 39250€\n"
     ]
    }
   ],
   "source": [
    "thv = 750\n",
    "\n",
    "# Lasketaan ylittääkö matkakustannukset omavastuun.\n",
    "if mk < mko:\n",
    "    mtv = 0\n",
    "else:\n",
    "    mtv = mk - mko\n",
    "\n",
    "pat = bp - t_m - mk - thv\n",
    "\n",
    "print('Puhdas ansiotulo on: {}€'.format(pat))"
   ]
  },
  {
   "source": [
    "## Sosiaalivakuutusmaksut ja sairausvakuutusmaksu\n",
    "\n",
    "Tämän jälkeen vähennetään työeläkemaksu"
   ],
   "cell_type": "markdown",
   "metadata": {}
  },
  {
   "cell_type": "code",
   "execution_count": 34,
   "metadata": {},
   "outputs": [
    {
     "output_type": "stream",
     "name": "stdout",
     "text": [
      "TyEL maksu: 2806.4€\n"
     ]
    }
   ],
   "source": [
    "if ika >= 17 and ika <= 52:\n",
    "    telm_p = 0.0715\n",
    "elif ika >= 53 and ika <= 62:\n",
    "    telm_p = 0.0865\n",
    "elif ika >= 63 and 67 <= 62:\n",
    "    telm_p = 0.0715\n",
    "else:\n",
    "    telm_p = 0\n",
    "\n",
    "tyel_m = pat*telm_p\n",
    "print('TyEL maksu: {:.1f}€'.format(tyel_m))"
   ]
  },
  {
   "source": [
    "Seuraavaksi lasketaan työttömyysvakuutusmaksu, jos työntekijä on 17 - 64 -vuotias"
   ],
   "cell_type": "markdown",
   "metadata": {}
  },
  {
   "cell_type": "code",
   "execution_count": 35,
   "metadata": {},
   "outputs": [
    {
     "output_type": "stream",
     "name": "stdout",
     "text": [
      "Työttömyysvakuutusmaksu maksu: 549.5€\n"
     ]
    }
   ],
   "source": [
    "if ika >= 17 and ika <= 64:\n",
    "    tvm_p = 0.014\n",
    "else:\n",
    "    tvm_p = 0.0\n",
    "\n",
    "tvm = pat*tvm_p\n",
    "print('Työttömyysvakuutusmaksu maksu: {:.1f}€'.format(tvm))"
   ]
  },
  {
   "source": [
    "Seuraavaksi lasketaan sairausvakuutuksen päivärahamaksu. Vuositulot ovat alle 14766€. Maksua ei peritä"
   ],
   "cell_type": "markdown",
   "metadata": {}
  },
  {
   "cell_type": "code",
   "execution_count": 36,
   "metadata": {},
   "outputs": [
    {
     "output_type": "stream",
     "name": "stdout",
     "text": [
      "Työttömyysvakuutusmaksu maksu: 533.8€\n"
     ]
    }
   ],
   "source": [
    "if ika >= 16 and ika <= 67 and pat >= 14766:\n",
    "    prm_p = 0.0136\n",
    "else:\n",
    "    prm_p = 0\n",
    "\n",
    "\n",
    "svm = pat*prm_p\n",
    "print('Työttömyysvakuutusmaksu maksu: {:.1f}€'.format(svm))"
   ]
  },
  {
   "source": [
    "Sitten lasketaan sairaanhoitomaksu palkkatulosta (0,68%)"
   ],
   "cell_type": "markdown",
   "metadata": {}
  },
  {
   "cell_type": "code",
   "execution_count": 37,
   "metadata": {},
   "outputs": [
    {
     "output_type": "stream",
     "name": "stdout",
     "text": [
      "Työttömyysvakuutusmaksu maksu: 266.9€\n"
     ]
    }
   ],
   "source": [
    "shm = pat*0.0068\n",
    "print('Työttömyysvakuutusmaksu maksu: {:.1f}€'.format(shm))"
   ]
  },
  {
   "source": [
    "## Verotettava tulo sosiaalivakuutusmaksujen ja sairausvakuutusmaksun jälkeen"
   ],
   "cell_type": "markdown",
   "metadata": {}
  },
  {
   "cell_type": "code",
   "execution_count": 38,
   "metadata": {},
   "outputs": [
    {
     "output_type": "stream",
     "name": "stdout",
     "text": [
      "Verotettavat tulo: 35093.4€\n"
     ]
    }
   ],
   "source": [
    "v_t = pat - shm - svm - tvm - tyel_m\n",
    "print('Verotettavat tulo: {:.1f}€'.format(v_t))"
   ]
  },
  {
   "source": [
    "## Kunnallisvero\n",
    "\n",
    "Sitten lasketaan kunnallisverot. Ensin aloitetaan kunnallisverotuksen asiotulovähennykestä (atv). Kunnallisveron ansiotulovähennys lasketaan ureasta eri tuloista:\n",
    "- Veron alaisesta palkkatulosta\n",
    "- Muusta toiselle suoritetusta työstä, tehtävästä tai palveluksesta saadut ansiotulot\n",
    "- Ansiotulosta pidätettävistä käyttökorvauksista\n",
    "- Ansiotulona verotettavasta  osingosta\n",
    "- Jaettavasta yritystulosta, joka on asiotulon-osuutta\n",
    "- Uhtymän osakkaan elinkeinotoiminnan tai maatalouden ansiotulo-osuuden osuudesta\n",
    "\n",
    "Tässä esimerkissä kuitenkin keskitytään vain veron alaiseen palkkatuloon"
   ],
   "cell_type": "markdown",
   "metadata": {}
  },
  {
   "cell_type": "code",
   "execution_count": null,
   "metadata": {},
   "outputs": [],
   "source": [
    "\n",
    "if bp <= 2500:\n",
    "    atv = 0\n",
    "elif bp  > 2500 and bp  <= 7230:\n",
    "    atv = (bt - 2500)*0.51\n",
    "elif bp  > 7230:\n",
    "    atv = (7230–2500) × 0.51 + (bp – 7230) × 0.28\n"
   ]
  }
 ]
}