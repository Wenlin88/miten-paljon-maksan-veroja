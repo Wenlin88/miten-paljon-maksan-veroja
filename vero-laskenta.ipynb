{
 "metadata": {
  "language_info": {
   "codemirror_mode": {
    "name": "ipython",
    "version": 3
   },
   "file_extension": ".py",
   "mimetype": "text/x-python",
   "name": "python",
   "nbconvert_exporter": "python",
   "pygments_lexer": "ipython3",
   "version": "3.7.6-final"
  },
  "orig_nbformat": 2,
  "kernelspec": {
   "name": "python3",
   "display_name": "Python 3",
   "language": "python"
  }
 },
 "nbformat": 4,
 "nbformat_minor": 2,
 "cells": [
  {
   "source": [
    "## Ensiksi syötetään alkutiedot \n",
    "\n",
    "Alkutietojen muuttujat:\n",
    "- bp = bruttopalkka (€/vuosi)\n",
    "- ika = Veronmaksajan ikä\n",
    "- k_k = kuulun kirkkoon (True/False)\n",
    "- t_m = Työttömyyskassan jäsenmaksu (€/vuosi)\n",
    "- mk = Matka kulut per vuosi\n",
    "- mko = Matkakulujen omavastuu per vuosi\n",
    "- k_kunta = Kotikunta verotusvuonna\n",
    "\n",
    "Seuraan tässä laskennassa veronmaksajien esimerkkiä --> https://www.veronmaksajat.fi/Palkka-ja-elake/Jarin-palkka/"
   ],
   "cell_type": "markdown",
   "metadata": {}
  },
  {
   "cell_type": "code",
   "execution_count": 1,
   "metadata": {},
   "outputs": [],
   "source": [
    "bp = 40000\n",
    "k_k = True\n",
    "t_m = 0\n",
    "mk = 0\n",
    "mko = 750\n",
    "ika = 25"
   ]
  },
  {
   "source": [
    "## Puhdas ansiotulo\n",
    "\n",
    "Ensiksi lasketaan verotuksessa puhdas ansiotulo (pat). Tämä saadaan vähentämällä luonnolliset vähennykset bruttopalkasta. Ansiotulosta vähennetään aina tulonhankkimisvähennys (thv)"
   ],
   "cell_type": "markdown",
   "metadata": {}
  },
  {
   "cell_type": "code",
   "execution_count": 2,
   "metadata": {},
   "outputs": [
    {
     "output_type": "stream",
     "name": "stdout",
     "text": [
      "Puhdas ansiotulo on: 39250€\n"
     ]
    }
   ],
   "source": [
    "thv = 750\n",
    "\n",
    "# Lasketaan ylittääkö matkakustannukset omavastuun.\n",
    "if mk < mko:\n",
    "    mtv = 0\n",
    "else:\n",
    "    mtv = mk - mko\n",
    "\n",
    "pat = bp - t_m - mk - thv\n",
    "\n",
    "print('Puhdas ansiotulo on: {}€'.format(pat))"
   ]
  },
  {
   "source": [
    "## Sosiaalivakuutusmaksut ja sairausvakuutusmaksu\n",
    "\n",
    "Tämän jälkeen vähennetään työeläkemaksu"
   ],
   "cell_type": "markdown",
   "metadata": {}
  },
  {
   "cell_type": "code",
   "execution_count": 3,
   "metadata": {},
   "outputs": [
    {
     "output_type": "stream",
     "name": "stdout",
     "text": [
      "TyEL maksu: 2806.4€\n"
     ]
    }
   ],
   "source": [
    "if ika >= 17 and ika <= 52:\n",
    "    telm_p = 0.0715\n",
    "elif ika >= 53 and ika <= 62:\n",
    "    telm_p = 0.0865\n",
    "elif ika >= 63 and 67 <= 62:\n",
    "    telm_p = 0.0715\n",
    "else:\n",
    "    telm_p = 0\n",
    "\n",
    "tyel_m = pat*telm_p\n",
    "print('TyEL maksu: {:.1f}€'.format(tyel_m))"
   ]
  },
  {
   "source": [
    "Seuraavaksi lasketaan työttömyysvakuutusmaksu, jos työntekijä on 17 - 64 -vuotias"
   ],
   "cell_type": "markdown",
   "metadata": {}
  },
  {
   "cell_type": "code",
   "execution_count": 4,
   "metadata": {},
   "outputs": [
    {
     "output_type": "stream",
     "name": "stdout",
     "text": [
      "Työttömyysvakuutusmaksu maksu: 549.5€\n"
     ]
    }
   ],
   "source": [
    "if ika >= 17 and ika <= 64:\n",
    "    tvm_p = 0.014\n",
    "else:\n",
    "    tvm_p = 0.0\n",
    "\n",
    "tvm = pat*tvm_p\n",
    "print('Työttömyysvakuutusmaksu maksu: {:.1f}€'.format(tvm))"
   ]
  },
  {
   "source": [
    "Seuraavaksi lasketaan sairausvakuutuksen päivärahamaksu. Vuositulot ovat alle 14766€. Maksua ei peritä"
   ],
   "cell_type": "markdown",
   "metadata": {}
  },
  {
   "cell_type": "code",
   "execution_count": 5,
   "metadata": {},
   "outputs": [
    {
     "output_type": "stream",
     "name": "stdout",
     "text": [
      "Työttömyysvakuutusmaksu maksu: 533.8€\n"
     ]
    }
   ],
   "source": [
    "if ika >= 16 and ika <= 67 and pat >= 14766:\n",
    "    prm_p = 0.0136\n",
    "else:\n",
    "    prm_p = 0\n",
    "\n",
    "\n",
    "svm = pat*prm_p\n",
    "print('Työttömyysvakuutusmaksu maksu: {:.1f}€'.format(svm))"
   ]
  },
  {
   "source": [
    "Sitten lasketaan sairaanhoitomaksu palkkatulosta (0,68%)"
   ],
   "cell_type": "markdown",
   "metadata": {}
  },
  {
   "cell_type": "code",
   "execution_count": 6,
   "metadata": {},
   "outputs": [
    {
     "output_type": "stream",
     "name": "stdout",
     "text": [
      "Työttömyysvakuutusmaksu maksu: 266.9€\n"
     ]
    }
   ],
   "source": [
    "shm = pat*0.0068\n",
    "print('Työttömyysvakuutusmaksu maksu: {:.1f}€'.format(shm))"
   ]
  },
  {
   "source": [
    "## Verotettava tulo sosiaalivakuutusmaksujen ja sairausvakuutusmaksun jälkeen"
   ],
   "cell_type": "markdown",
   "metadata": {}
  },
  {
   "cell_type": "code",
   "execution_count": 7,
   "metadata": {},
   "outputs": [
    {
     "output_type": "stream",
     "name": "stdout",
     "text": [
      "Verotettavat tulo: 35093.4€\n"
     ]
    }
   ],
   "source": [
    "v_t = pat - shm - svm - tvm - tyel_m\n",
    "print('Verotettavat tulo: {:.1f}€'.format(v_t))"
   ]
  },
  {
   "source": [
    "## Kunnallisvero\n",
    "\n",
    "Sitten lasketaan kunnallisverot. Ensin aloitetaan kunnallisverotuksen asiotulovähennykestä (atv). Kunnallisveron ansiotulovähennys lasketaan ureasta eri tuloista:\n",
    "- Veron alaisesta palkkatulosta\n",
    "- Muusta toiselle suoritetusta työstä, tehtävästä tai palveluksesta saadut ansiotulot\n",
    "- Ansiotulosta pidätettävistä käyttökorvauksista\n",
    "- Ansiotulona verotettavasta  osingosta\n",
    "- Jaettavasta yritystulosta, joka on asiotulon-osuutta\n",
    "- Uhtymän osakkaan elinkeinotoiminnan tai maatalouden ansiotulo-osuuden osuudesta\n",
    "\n",
    "Tässä esimerkissä kuitenkin keskitytään vain veron alaiseen palkkatuloon"
   ],
   "cell_type": "markdown",
   "metadata": {}
  },
  {
   "cell_type": "code",
   "execution_count": 8,
   "metadata": {},
   "outputs": [
    {
     "output_type": "stream",
     "name": "stdout",
     "text": [
      "Asiotulovähennys kunnallisverotuksesta: 2433.75€\n"
     ]
    }
   ],
   "source": [
    "bp = 40000\n",
    "\n",
    "if bp <= 2500:\n",
    "    atv = 0\n",
    "elif bp > 2500 and bp  <= 7230:\n",
    "    atv = (bt - 2500) * 0.51\n",
    "elif bp  > 7230: \n",
    "    atv = (7230 - 2500) * 0.51 + (bp - 7230) * 0.28\n",
    "\n",
    "if atv > 3570: # Asiotulovähennyksen maksimimäärä on 3570\n",
    "    atv = 3570\n",
    "\n",
    "# Jos kuitenkin verovelvollisen puhtaat ansiotulot ylittävät 14000€ vähennyksen määrä pienenee puhtaan ansiotulon ylittävältä osalta.\n",
    "\n",
    "if pat > 14000:\n",
    "    atv = atv - (pat - 14000) * 0.045\n",
    "\n",
    "print('Asiotulovähennys kunnallisverotuksesta: {:.2f}€'.format(atv))\n"
   ]
  },
  {
   "source": [
    "## Kunnallisverotuksen perusvähennys\n",
    "\n",
    "Perusvähennys kunnallisverotuksessa on maksimissaan 3305€. Tähän vaikuttaa myös muut vähennykset tulojen lisäksi. Puhtaasta ansiotulosta vähennetään sosiaalivakuutusmaksut, kunnallisverotuksen ansiotulovähennys sekä muut mahdolliset kunnallisverotuksen vähennykset. "
   ],
   "cell_type": "markdown",
   "metadata": {}
  },
  {
   "cell_type": "code",
   "execution_count": 9,
   "metadata": {},
   "outputs": [
    {
     "output_type": "stream",
     "name": "stdout",
     "text": [
      "Kunnallisverotuksen perusvähennys: 0.00€\n"
     ]
    }
   ],
   "source": [
    "\n",
    "kvp = 3305 # Perusvähennyksen maksimiarvo\n",
    "\n",
    "kvp_va = v_t - atv\n",
    "if kvp_va > kvp:\n",
    "    kvp = kvp - kvp_va*0.18\n",
    "\n",
    "if kvp < 0:\n",
    "    kvp = 0\n",
    "\n",
    "print('Kunnallisverotuksen perusvähennys: {:.2f}€'.format(kvp))\n",
    "\n"
   ]
  },
  {
   "source": [
    "## Kunnallisverotuksessa verotettava tulo"
   ],
   "cell_type": "markdown",
   "metadata": {}
  },
  {
   "cell_type": "code",
   "execution_count": 10,
   "metadata": {},
   "outputs": [
    {
     "output_type": "stream",
     "name": "stdout",
     "text": [
      "32659.674999999996\n"
     ]
    }
   ],
   "source": [
    "print(v_t - atv - kvp)"
   ]
  },
  {
   "cell_type": "code",
   "execution_count": 11,
   "metadata": {},
   "outputs": [],
   "source": [
    "import requests\n",
    "from io import BytesIO\n",
    "from pdfminer.high_level import extract_text\n",
    "import numpy as np\n",
    "import pandas as pd\n",
    "\n",
    "url = 'https://www.vero.fi/contentassets/be5e703ff5e34099a2ea2f74a33eaa68/kuntien-ja-seurakuntien-tuloveroprosentit-vuonna-2021.pdf'\n",
    "\n",
    "rq = requests.get(url)\n",
    "text = extract_text(BytesIO(rq.content))\n",
    "\n",
    "data = text.split('Kunta ')[1].split('Suomen saksalaisen')[0]\n",
    "\n",
    "temp = data.split('\\n\\n')\n",
    "kunnat = ''.join(temp[1::4]).replace('\\x0c','\\n').replace(' ','').split('\\n')\n",
    "kunnallis_veroprosentti  = ''.join(temp[2::4]).replace('\\n','').replace(',','.').split(' ')\n",
    "ev_lut_veroprosentti = ''.join(temp[3::4]).replace('\\n','').replace(',','.').split(' ')\n",
    "ort_veroprosentti = ''.join(temp[4::4]).replace('\\n','').replace(',','.').split(' ')\n",
    "\n",
    "df_kunnat = pd.DataFrame(data = kunnat, columns = ['Kunta']).replace('', np.nan).dropna()\n",
    "df_kunnallis_veroprosentti = pd.DataFrame(data = kunnallis_veroprosentti, columns = ['Kunnan\\ntuloveroprosentti']).replace('', np.nan).dropna()\n",
    "df_ev_lut_veroprosentti = pd.DataFrame(data = ev_lut_veroprosentti, columns = ['Ev.lut.\\nseurakunnan\\ntuloveroprosentti']).replace('', np.nan).dropna()\n",
    "df_ort_veroprosentti = pd.DataFrame(data = ev_lut_veroprosentti, columns = ['Ortodoks.\\nseurakunnan\\ntuloveroprosentti']).replace('', np.nan).dropna()\n",
    "\n",
    "result = pd.concat([df_kunnat,df_kunnallis_veroprosentti, df_ev_lut_veroprosentti, df_ort_veroprosentti], axis = 1)"
   ]
  },
  {
   "cell_type": "code",
   "execution_count": 12,
   "metadata": {
    "tags": []
   },
   "outputs": [
    {
     "output_type": "stream",
     "name": "stdout",
     "text": [
      "|     | Kunta              |              Kunnan |             Ev.lut. |           Ortodoks. |\n|     |                    |   tuloveroprosentti |         seurakunnan |         seurakunnan |\n|     |                    |                     |   tuloveroprosentti |   tuloveroprosentti |\n|----:|:-------------------|--------------------:|--------------------:|--------------------:|\n|   0 | Akaa               |               22.25 |                1.7  |                1.7  |\n|   1 | Alajärvi           |               21.75 |                1.75 |                1.75 |\n|   2 | Alavieska          |               22    |                1.8  |                1.8  |\n|   3 | Alavus             |               21.25 |                1.75 |                1.75 |\n|   4 | Asikkala           |               20.75 |                1.75 |                1.75 |\n|   5 | Askola             |               21.5  |                1.75 |                1.75 |\n|   6 | Aura               |               21.5  |                1.35 |                1.35 |\n|   7 | Brändö             |               17.75 |                2    |                2    |\n|   8 | Eckerö             |               19    |                2    |                2    |\n|   9 | Enonkoski          |               21    |                1.6  |                1.6  |\n|  10 | Enontekiö          |               21.25 |                1.75 |                1.75 |\n|  11 | Espoo              |               18    |                1    |                1    |\n|  12 | Eura               |               21    |                1.5  |                1.5  |\n|  13 | Eurajoki           |               18    |                1.6  |                1.6  |\n|  14 | Evijärvi           |               22.5  |                1.75 |                1.75 |\n|  15 | Finström           |               19.5  |                1.95 |                1.95 |\n|  16 | Forssa             |               20.5  |                1.4  |                1.4  |\n|  17 | Föglö              |               17.5  |                2    |                2    |\n|  18 | Geta               |               18.5  |                1.95 |                1.95 |\n|  19 | Haapajärvi         |               22.5  |                1.75 |                1.75 |\n|  20 | Haapavesi          |               22    |                1.8  |                1.8  |\n|  21 | Hailuoto           |               20.5  |                1.8  |                1.8  |\n|  22 | Halsua             |               23.5  |                1.7  |                1.7  |\n|  23 | Hamina             |               21    |                1.6  |                1.6  |\n|  24 | Hammarland         |               18    |                1.8  |                1.8  |\n|  25 | Hankasalmi         |               22    |                1.95 |                1.95 |\n|  26 | Hanko              |               21.75 |                1.6  |                1.6  |\n|  27 | Harjavalta         |               21.5  |                1.75 |                1.75 |\n|  28 | Hartola            |               21.5  |                1.75 |                1.75 |\n|  29 | Hattula            |               20.75 |                1.5  |                1.5  |\n|  30 | Hausjärvi          |               21.5  |                1.75 |                1.75 |\n|  31 | Heinola            |               20.5  |                1.5  |                1.5  |\n|  32 | Heinävesi          |               21    |                1.8  |                1.8  |\n|  33 | Helsinki           |               18    |                1    |                1    |\n|  34 | Hirvensalmi        |               20    |                1.75 |                1.75 |\n|  35 | Hollola            |               21    |                1.75 |                1.75 |\n|  36 | Huittinen          |               21    |                1.6  |                1.6  |\n|  37 | Humppila           |               22    |                1.9  |                1.9  |\n|  38 | Hyrynsalmi         |               21.75 |                1.75 |                1.75 |\n|  39 | Hyvinkää           |               20.25 |                1.25 |                1.25 |\n|  40 | Hämeenkyrö         |               22    |                1.7  |                1.7  |\n|  41 | Hämeenlinna        |               21    |                1.3  |                1.3  |\n|  42 | Ii                 |               21.5  |                1.5  |                1.5  |\n|  43 | Iisalmi            |               20.5  |                1.65 |                1.65 |\n|  44 | Iitti              |               21.25 |                1.65 |                1.65 |\n|  45 | Ikaalinen          |               22    |                1.85 |                1.85 |\n|  46 | Ilmajoki           |               21    |                1.75 |                1.75 |\n|  47 | Ilomantsi          |               21    |                1.6  |                1.6  |\n|  48 | Imatra             |               20    |                1.65 |                1.65 |\n|  49 | Inari              |               19    |                1.9  |                1.9  |\n|  50 | Inkoo              |               20.75 |                1.75 |                1.75 |\n|  51 | Isojoki            |               22.5  |                1.75 |                1.75 |\n|  52 | Isokyrö            |               21.5  |                1.75 |                1.75 |\n|  53 | Janakkala          |               21    |                1.45 |                1.45 |\n|  54 | Joensuu            |               20.5  |                1.55 |                1.55 |\n|  55 | Jokioinen          |               21.25 |                1.85 |                1.85 |\n|  56 | Jomala             |               16.5  |                1.5  |                1.5  |\n|  57 | Joroinen           |               21.25 |                1.7  |                1.7  |\n|  58 | Joutsa             |               21    |                2    |                2    |\n|  59 | Juuka              |               20.75 |                1.7  |                1.7  |\n|  60 | Juupajoki          |               21    |                1.75 |                1.75 |\n|  61 | Juva               |               20.75 |                1.65 |                1.65 |\n|  62 | Jyväskylä          |               20    |                1.45 |                1.45 |\n|  63 | Jämijärvi          |               22.5  |                1.8  |                1.8  |\n|  64 | Jämsä              |               21    |                1.6  |                1.6  |\n|  65 | Järvenpää          |               20.25 |                1.25 |                1.25 |\n|  66 | Kaarina            |               20.25 |                1.25 |                1.25 |\n|  67 | Kaavi              |               22    |                1.5  |                1.5  |\n|  68 | Kajaani            |               21    |                1.65 |                1.65 |\n|  69 | Kalajoki           |               21    |                1.75 |                1.75 |\n|  70 | Kangasala          |               21    |                1.4  |                1.4  |\n|  71 | Kangasniemi        |               21.5  |                1.7  |                1.7  |\n|  72 | Kankaanpää         |               21.75 |                1.8  |                1.8  |\n|  73 | Kannonkoski        |               21.5  |                1.75 |                1.75 |\n|  74 | Kannus             |               21.5  |                1.6  |                1.6  |\n|  75 | Karijoki           |               22.5  |                2    |                2    |\n|  76 | Karkkila           |               21.25 |                1.5  |                1.5  |\n|  77 | Karstula           |               21.5  |                1.85 |                1.85 |\n|  78 | Karvia             |               20.5  |                1.95 |                1.95 |\n|  79 | Kaskinen           |               22    |                1.85 |                1.85 |\n|  80 | Kauhajoki          |               22    |                1.9  |                1.9  |\n|  81 | Kauhava            |               21.75 |                1.75 |                1.75 |\n|  82 | Kauniainen         |               17    |                1    |                1    |\n|  83 | Kaustinen          |               22    |                1.7  |                1.7  |\n|  84 | Keitele            |               20.5  |                1.65 |                1.65 |\n|  85 | Kemi               |               21.75 |                1.5  |                1.5  |\n|  86 | Kemijärvi          |               21.5  |                1.75 |                1.75 |\n|  87 | Keminmaa           |               21.25 |                1.4  |                1.4  |\n|  88 | Kemiönsaari        |               19.75 |                2    |                2    |\n|  89 | Kempele            |               20.5  |                1.45 |                1.45 |\n|  90 | Kerava             |               19.25 |                1.25 |                1.25 |\n|  91 | Keuruu             |               21.5  |                1.8  |                1.8  |\n|  92 | Kihniö             |               21.5  |                2    |                2    |\n|  93 | Kinnula            |               21.5  |                1.85 |                1.85 |\n|  94 | Kirkkonummi        |               19.75 |                1.25 |                1.25 |\n|  95 | Kitee              |               20.75 |                1.8  |                1.8  |\n|  96 | Kittilä            |               20.25 |                1.5  |                1.5  |\n|  97 | Kiuruvesi          |               21.75 |                1.5  |                1.5  |\n|  98 | Kivijärvi          |               21.75 |                1.75 |                1.75 |\n|  99 | Kokemäki           |               21.75 |                1.75 |                1.75 |\n| 100 | Kokkola            |               21.5  |                1.7  |                1.7  |\n| 101 | Kolari             |               20    |                1.5  |                1.5  |\n| 102 | Konnevesi          |               22    |                1.9  |                1.9  |\n| 103 | Kontiolahti        |               20.5  |                1.5  |                1.5  |\n| 104 | Korsnäs            |               21.5  |                1.85 |                1.85 |\n| 105 | KoskiTl            |               20    |                1.9  |                1.9  |\n| 106 | Kotka              |               21.5  |                1.5  |                1.5  |\n| 107 | Kouvola            |               21.25 |                1.6  |                1.6  |\n| 108 | Kristiinankaupunki |               21.5  |                2    |                2    |\n| 109 | Kruunupyy          |               22    |                2    |                2    |\n| 110 | Kuhmo              |               22    |                1.75 |                1.75 |\n| 111 | Kuhmoinen          |               21.75 |                1.75 |                1.75 |\n| 112 | Kumlinge           |               18.5  |                2    |                2    |\n| 113 | Kuopio             |               20.75 |                1.5  |                1.5  |\n| 114 | Kuortane           |               21    |                1.85 |                1.85 |\n| 115 | Kurikka            |               21    |                1.75 |                1.75 |\n| 116 | Kustavi            |               18.25 |                1.85 |                1.85 |\n| 117 | Kuusamo            |               20    |                1.6  |                1.6  |\n| 118 | Kyyjärvi           |               22.5  |                2    |                2    |\n| 119 | Kärkölä            |               22    |                1.75 |                1.75 |\n| 120 | Kärsämäki          |               21.5  |                1.8  |                1.8  |\n| 121 | Kökar              |               19.75 |                2    |                2    |\n| 122 | Lahti              |               20.75 |                1.5  |                1.5  |\n| 123 | Laihia             |               21.75 |                1.5  |                1.5  |\n| 124 | Laitila            |               20.75 |                1.6  |                1.6  |\n| 125 | Lapinjärvi         |               21.5  |                1.65 |                1.65 |\n| 126 | Lapinlahti         |               21.25 |                1.65 |                1.65 |\n| 127 | Lappajärvi         |               22    |                1.75 |                1.75 |\n| 128 | Lappeenranta       |               21    |                1.45 |                1.45 |\n| 129 | Lapua              |               21.5  |                1.75 |                1.75 |\n| 130 | Laukaa             |               21.5  |                1.65 |                1.65 |\n| 131 | Lemi               |               22    |                1.75 |                1.75 |\n| 132 | Lemland            |               17    |                1.7  |                1.7  |\n| 133 | Lempäälä           |               20.5  |                1.45 |                1.45 |\n| 134 | Leppävirta         |               21    |                1.65 |                1.65 |\n| 135 | Lestijärvi         |               21    |                2    |                2    |\n| 136 | Lieksa             |               21    |                1.6  |                1.6  |\n| 137 | Lieto              |               19.75 |                1.35 |                1.35 |\n| 138 | Liminka            |               21.5  |                1.7  |                1.7  |\n| 139 | Liperi             |               21.5  |                1.6  |                1.6  |\n| 140 | Lohja              |               20.5  |                1.5  |                1.5  |\n| 141 | Loimaa             |               21    |                1.6  |                1.6  |\n| 142 | Loppi              |               21.5  |                1.75 |                1.75 |\n| 143 | Loviisa            |               20.25 |                1.65 |                1.65 |\n| 144 | Luhanka            |               18.5  |                2    |                2    |\n| 145 | Lumijoki           |               21    |                1.95 |                1.95 |\n| 146 | Lumparland         |               19.5  |                1.7  |                1.7  |\n| 147 | Luoto              |               20    |                1.9  |                1.9  |\n| 148 | Luumäki            |               20.5  |                1.7  |                1.7  |\n| 149 | Maalahti           |               21.5  |                1.9  |                1.9  |\n| 150 | Maarianhamina      |               17.25 |                1.55 |                1.55 |\n| 151 | Marttila           |               20.75 |                1.9  |                1.9  |\n| 152 | Masku              |               20.75 |                1.6  |                1.6  |\n| 153 | Merijärvi          |               22.5  |                1.75 |                1.75 |\n| 154 | Merikarvia         |               20.5  |                1.9  |                1.9  |\n| 155 | Miehikkälä         |               20.5  |                1.6  |                1.6  |\n| 156 | Mikkeli            |               22    |                1.5  |                1.5  |\n| 157 | Muhos              |               21.5  |                1.6  |                1.6  |\n| 158 | Multia             |               22    |                1.95 |                1.95 |\n| 159 | Muonio             |               21.5  |                1.75 |                1.75 |\n| 160 | Mustasaari         |               20.75 |                1.85 |                1.85 |\n| 161 | Muurame            |               19.5  |                1.55 |                1.55 |\n| 162 | Mynämäki           |               21.25 |                1.75 |                1.75 |\n| 163 | Myrskylä           |               21.5  |                1.85 |                1.85 |\n| 164 | Mäntsälä           |               21    |                1.25 |                1.25 |\n| 165 | Mänttä-Vilppula    |               22.5  |                1.8  |                1.8  |\n| 166 | Mäntyharju         |               20.75 |                1.9  |                1.9  |\n| 167 | Naantali           |               19    |                1.35 |                1.35 |\n| 168 | Nakkila            |               21.25 |                1.75 |                1.75 |\n| 169 | Nivala             |               22    |                1.75 |                1.75 |\n| 170 | Nokia              |               21    |                1.6  |                1.6  |\n| 171 | Nousiainen         |               21.5  |                1.55 |                1.55 |\n| 172 | Nurmes             |               20.5  |                1.75 |                1.75 |\n| 173 | Nurmijärvi         |               19.75 |                1.45 |                1.45 |\n| 174 | Närpiö             |               21    |                1.5  |                1.5  |\n| 175 | Orimattila         |               21.25 |                1.8  |                1.8  |\n| 176 | Oripää             |               21    |                1.75 |                1.75 |\n| 177 | Orivesi            |               22    |                1.75 |                1.75 |\n| 178 | Oulainen           |               22    |                1.75 |                1.75 |\n| 179 | Oulu               |               20.5  |                1.3  |                1.3  |\n| 180 | Outokumpu          |               21.5  |                1.65 |                1.65 |\n| 181 | Padasjoki          |               21    |                1.75 |                1.75 |\n| 182 | Paimio             |               20.75 |                1.5  |                1.5  |\n| 183 | Paltamo            |               22    |                1.75 |                1.75 |\n| 184 | Parainen           |               20.5  |                1.5  |                1.5  |\n| 185 | Parikkala          |               20.5  |                1.75 |                1.75 |\n| 186 | Parkano            |               22    |                1.75 |                1.75 |\n| 187 | Pedersörenkunta    |               21    |                1.8  |                1.8  |\n| 188 | Pelkosenniemi      |               22.25 |                1.95 |                1.95 |\n| 189 | Pello              |               21.25 |                1.6  |                1.6  |\n| 190 | Perho              |               21.5  |                1.9  |                1.9  |\n| 191 | Pertunmaa          |               21.5  |                1.9  |                1.9  |\n| 192 | Petäjävesi         |               21.75 |                1.9  |                1.9  |\n| 193 | Pieksämäki         |               22    |                1.5  |                1.5  |\n| 194 | Pielavesi          |               21.75 |                1.65 |                1.65 |\n| 195 | Pietarsaari        |               21.25 |                1.8  |                1.8  |\n| 196 | Pihtipudas         |               21    |                1.85 |                1.85 |\n| 197 | Pirkkala           |               20.5  |                1.4  |                1.4  |\n| 198 | Polvijärvi         |               20.25 |                1.65 |                1.65 |\n| 199 | Pomarkku           |               21.5  |                1.5  |                1.5  |\n| 200 | Pori               |               21    |                1.5  |                1.5  |\n| 201 | Pornainen          |               20.5  |                1.75 |                1.75 |\n| 202 | Porvoo             |               19.75 |                1.45 |                1.45 |\n| 203 | Posio              |               21.75 |                1.75 |                1.75 |\n| 204 | Pudasjärvi         |               21    |                1.5  |                1.5  |\n| 205 | Pukkila            |               21.5  |                1.85 |                1.85 |\n| 206 | Punkalaidun        |               22    |                1.8  |                1.8  |\n| 207 | Puolanka           |               21.5  |                1.75 |                1.75 |\n| 208 | Puumala            |               19.5  |                1.95 |                1.95 |\n| 209 | Pyhtää             |               20.75 |                1.7  |                1.7  |\n| 210 | Pyhäjoki           |               20.75 |                1.75 |                1.75 |\n| 211 | Pyhäjärvi          |               21.75 |                1.75 |                1.75 |\n| 212 | Pyhäntä            |               19.75 |                1.9  |                1.9  |\n| 213 | Pyhäranta          |               21.75 |                1.9  |                1.9  |\n| 214 | Pälkäne            |               21.5  |                1.8  |                1.8  |\n| 215 | Pöytyä             |               21.25 |                1.75 |                1.75 |\n| 216 | Raahe              |               21.25 |                1.9  |                1.9  |\n| 217 | Raasepori          |               22    |                1.6  |                1.6  |\n| 218 | Raisio             |               20.25 |                1.15 |                1.15 |\n| 219 | Rantasalmi         |               22    |                1.6  |                1.6  |\n| 220 | Ranua              |               19.75 |                1.75 |                1.75 |\n| 221 | Rauma              |               21    |                1.4  |                1.4  |\n| 222 | Rautalampi         |               22    |                1.85 |                1.85 |\n| 223 | Rautavaara         |               22    |                1.75 |                1.75 |\n| 224 | Rautjärvi          |               21    |                1.75 |                1.75 |\n| 225 | Reisjärvi          |               22.5  |                1.75 |                1.75 |\n| 226 | Riihimäki          |               20.5  |                1.3  |                1.3  |\n| 227 | Ristijärvi         |               21.5  |                1.75 |                1.75 |\n| 228 | Rovaniemi          |               21.5  |                1.3  |                1.3  |\n| 229 | Ruokolahti         |               20.5  |                1.75 |                1.75 |\n| 230 | Ruovesi            |               22    |                1.8  |                1.8  |\n| 231 | Rusko              |               19.75 |                1.5  |                1.5  |\n| 232 | Rääkkylä           |               21.5  |                1.8  |                1.8  |\n| 233 | Saarijärvi         |               22    |                1.75 |                1.75 |\n| 234 | Salla              |               20.25 |                1.8  |                1.8  |\n| 235 | Salo               |               20.75 |                1.4  |                1.4  |\n| 236 | Saltvik            |               18.5  |                1.75 |                1.75 |\n| 237 | Sastamala          |               21.5  |                1.75 |                1.75 |\n| 238 | Sauvo              |               21.5  |                1.5  |                1.5  |\n| 239 | Savitaipale        |               21.5  |                1.75 |                1.75 |\n| 240 | Savonlinna         |               22.75 |                1.6  |                1.6  |\n| 241 | Savukoski          |               21.75 |                1.95 |                1.95 |\n| 242 | Seinäjoki          |               21    |                1.65 |                1.65 |\n| 243 | Sievi              |               21.75 |                1.85 |                1.85 |\n| 244 | Siikainen          |               22    |                1.85 |                1.85 |\n| 245 | Siikajoki          |               22    |                1.9  |                1.9  |\n| 246 | Siikalatva         |               22    |                1.9  |                1.9  |\n| 247 | Siilinjärvi        |               22    |                1.25 |                1.25 |\n| 248 | Simo               |               22    |                1.65 |                1.65 |\n| 249 | Sipoo              |               19.25 |                1.35 |                1.35 |\n| 250 | Siuntio            |               21.5  |                1.7  |                1.7  |\n| 251 | Sodankylä          |               21    |                1.4  |                1.4  |\n| 252 | Soini              |               21.75 |                1.85 |                1.85 |\n| 253 | Somero             |               20.5  |                1.65 |                1.65 |\n| 254 | Sonkajärvi         |               21.25 |                1.65 |                1.65 |\n| 255 | Sotkamo            |               19.75 |                1.65 |                1.65 |\n| 256 | Sottunga           |               18    |                2    |                2    |\n| 257 | Sulkava            |               21    |                1.95 |                1.95 |\n| 258 | Sund               |               19.5  |                2    |                2    |\n| 259 | Suomussalmi        |               21.5  |                1.75 |                1.75 |\n| 260 | Suonenjoki         |               21.75 |                1.65 |                1.65 |\n| 261 | Sysmä              |               19    |                1.75 |                1.75 |\n| 262 | Säkylä             |               21.5  |                1.8  |                1.8  |\n| 263 | Taipalsaari        |               21    |                1.75 |                1.75 |\n| 264 | Taivalkoski        |               20.5  |                1.65 |                1.65 |\n| 265 | Taivassalo         |               20.5  |                1.75 |                1.75 |\n| 266 | Tammela            |               21.25 |                1.7  |                1.7  |\n| 267 | Tampere            |               20.25 |                1.25 |                1.25 |\n| 268 | Tervo              |               21.5  |                1.95 |                1.95 |\n| 269 | Tervola            |               20    |                1.85 |                1.85 |\n| 270 | Teuva              |               22.5  |                1.75 |                1.75 |\n| 271 | Tohmajärvi         |               21.75 |                1.95 |                1.95 |\n| 272 | Toholampi          |               21.75 |                2    |                2    |\n| 273 | Toivakka           |               21    |                1.95 |                1.95 |\n| 274 | Tornio             |               21    |                1.5  |                1.5  |\n| 275 | Turku              |               19.5  |                1.25 |                1.25 |\n| 276 | Tuusniemi          |               22    |                1.5  |                1.5  |\n| 277 | Tuusula            |               19.75 |                1.45 |                1.45 |\n| 278 | Tyrnävä            |               22    |                1.9  |                1.9  |\n| 279 | Ulvila             |               21.5  |                1.7  |                1.7  |\n| 280 | Urjala             |               22    |                1.8  |                1.8  |\n| 281 | Utajärvi           |               20.5  |                1.95 |                1.95 |\n| 282 | Utsjoki            |               21    |                1.9  |                1.9  |\n| 283 | Uurainen           |               21.5  |                1.95 |                1.95 |\n| 284 | Uusikaarlepyy      |               21.25 |                1.9  |                1.9  |\n| 285 | Uusikaupunki       |               20.75 |                1.5  |                1.5  |\n| 286 | Vaala              |               21.5  |                1.85 |                1.85 |\n| 287 | Vaasa              |               21    |                1.4  |                1.4  |\n| 288 | Valkeakoski        |               20.25 |                1.65 |                1.65 |\n| 289 | Vantaa             |               19    |                1    |                1    |\n| 290 | Varkaus            |               21    |                1.45 |                1.45 |\n| 291 | Vehmaa             |               22.25 |                1.85 |                1.85 |\n| 292 | Vesanto            |               22    |                1.95 |                1.95 |\n| 293 | Vesilahti          |               22    |                1.75 |                1.75 |\n| 294 | Veteli             |               22.5  |                1.9  |                1.9  |\n| 295 | Vieremä            |               21    |                1.8  |                1.8  |\n| 296 | Vihti              |               20.5  |                1.5  |                1.5  |\n| 297 | Viitasaari         |               21    |                1.85 |                1.85 |\n| 298 | Vimpeli            |               22.25 |                1.75 |                1.75 |\n| 299 | Virolahti          |               20.5  |                1.6  |                1.6  |\n| 300 | Virrat             |               21.25 |                1.7  |                1.7  |\n| 301 | Vårdö              |               19    |                2    |                2    |\n| 302 | Vöyri              |               21.5  |                1.95 |                1.95 |\n| 303 | Ylitornio          |               20    |                1.5  |                1.5  |\n| 304 | Ylivieska          |               23    |                1.75 |                1.75 |\n| 305 | Ylöjärvi           |               20.5  |                1.7  |                1.7  |\n| 306 | Ypäjä              |               22    |                1.9  |                1.9  |\n| 307 | Ähtäri             |               22.5  |                1.8  |                1.8  |\n| 308 | Äänekoski          |               21.5  |                1.65 |                1.65 |\n"
     ]
    }
   ],
   "source": [
    "print(result.to_markdown())"
   ]
  },
  {
   "cell_type": "code",
   "execution_count": null,
   "metadata": {},
   "outputs": [],
   "source": []
  }
 ]
}